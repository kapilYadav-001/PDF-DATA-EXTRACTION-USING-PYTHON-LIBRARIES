{
 "cells": [
  {
   "cell_type": "code",
   "execution_count": 1,
   "metadata": {
    "scrolled": true
   },
   "outputs": [
    {
     "name": "stdout",
     "output_type": "stream",
     "text": [
      "^C\n"
     ]
    }
   ],
   "source": [
    "#!pip install pymupdf\n",
    "!pip install opencv-python"
   ]
  },
  {
   "cell_type": "code",
   "execution_count": 2,
   "metadata": {},
   "outputs": [],
   "source": [
    "import fitz\n"
   ]
  },
  {
   "cell_type": "code",
   "execution_count": 3,
   "metadata": {},
   "outputs": [],
   "source": [
    "doc = fitz.open(\"C:\\\\Users\\\\cnctk\\\\OneDrive\\\\Desktop\\\\intervie\\\\yun\\\\keppel-corporation-limited-annual-report-2018.pdf\")\n"
   ]
  },
  {
   "cell_type": "code",
   "execution_count": 5,
   "metadata": {},
   "outputs": [
    {
     "data": {
      "text/plain": [
       "Pixmap(DeviceRGB, IRect(0, 0, 596, 842), 0)"
      ]
     },
     "execution_count": 5,
     "metadata": {},
     "output_type": "execute_result"
    }
   ],
   "source": [
    "doc[11].get_pixmap()"
   ]
  },
  {
   "cell_type": "code",
   "execution_count": 49,
   "metadata": {
    "scrolled": false
   },
   "outputs": [
    {
     "name": "stdout",
     "output_type": "stream",
     "text": [
      "(51.02360153198242, 108.5626220703125, 210.73294067382812, 147.9376220703125, 'While pursuing new markets and opportunities, \\nwe are growing our stable and recurring income \\nfrom the quality operations and maintenance \\nservices provided by Infrastructure Services. \\n', 0, 0)\n"
     ]
    }
   ],
   "source": [
    "page = doc[11]\n",
    "data  = page.get_text(\"blocks\")\n",
    "column1 = []\n",
    "column2 = []\n",
    "column3 = []\n",
    "for i in data:\n",
    "    if round(i[0],0)==51:\n",
    "        column1.append(i[4])\n",
    "    if round(i[0],0)==223:\n",
    "        column2.append(i[4])\n",
    "    if round(i[0],0)==395:\n",
    "        column3.append(i[4])\n",
    "columns = [column1,column2,column3]"
   ]
  },
  {
   "cell_type": "code",
   "execution_count": 54,
   "metadata": {},
   "outputs": [],
   "source": [
    "import xlsxwriter\n",
    "\n",
    "workbook = xlsxwriter.Workbook('C:\\\\Users\\\\cnctk\\\\OneDrive\\\\Desktop\\\\intervie\\\\yun\\\\keppelq1.xlsx')\n",
    "worksheet = workbook.add_worksheet()\n",
    "\n",
    "for col_num in range(0,len(columns)):\n",
    "    for row_num, data in enumerate(columns[col_num]):\n",
    "        worksheet.write(row_num, col_num, data)\n",
    "\n",
    "workbook.close()"
   ]
  },
  {
   "cell_type": "code",
   "execution_count": null,
   "metadata": {},
   "outputs": [],
   "source": []
  }
 ],
 "metadata": {
  "kernelspec": {
   "display_name": "Python 3",
   "language": "python",
   "name": "python3"
  },
  "language_info": {
   "codemirror_mode": {
    "name": "ipython",
    "version": 3
   },
   "file_extension": ".py",
   "mimetype": "text/x-python",
   "name": "python",
   "nbconvert_exporter": "python",
   "pygments_lexer": "ipython3",
   "version": "3.8.5"
  }
 },
 "nbformat": 4,
 "nbformat_minor": 4
}
